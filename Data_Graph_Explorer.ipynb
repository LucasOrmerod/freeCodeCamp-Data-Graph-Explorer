{
  "nbformat": 4,
  "nbformat_minor": 0,
  "metadata": {
    "colab": {
      "provenance": []
    },
    "kernelspec": {
      "name": "python3",
      "display_name": "Python 3"
    },
    "language_info": {
      "name": "python"
    }
  },
  "cells": [
    {
      "cell_type": "markdown",
      "source": [
        "# Imports"
      ],
      "metadata": {
        "id": "MZIEw873fuMX"
      }
    },
    {
      "cell_type": "code",
      "source": [
        "import pandas as pd\n",
        "from google.colab import files\n",
        "import requests\n",
        "from io import StringIO\n",
        "import numpy as np\n",
        "import matplotlib.pyplot as plt"
      ],
      "metadata": {
        "id": "iqty0EoPfyCb"
      },
      "execution_count": null,
      "outputs": []
    },
    {
      "cell_type": "markdown",
      "source": [
        "# Get a CSV File Data"
      ],
      "metadata": {
        "id": "tR-Clfnxf4x9"
      }
    },
    {
      "cell_type": "code",
      "source": [
        "def get_csv():\n",
        "  choice = input(\"\"\"\n",
        "  Please choose an option below to get a CSV file:\\n\n",
        "  ------------------------------------------------\\n\n",
        "  Press '1' to upload a file\\n\n",
        "  Press '2' to prove a URL\\n\n",
        "  Press '3' to use the default data\\n\n",
        "  ------------------------------------------------\\n\n",
        "  \"\"\")\n",
        "\n",
        "  if choice == \"1\":\n",
        "    uploaded_file = files.upload()\n",
        "    file_name = list(uploaded_file.keys())[0]\n",
        "    return pd.read_csv(StringIO(uploaded_file[file_name].decode(\"utf-8\")))\n",
        "  elif choice == \"2\":\n",
        "    url = input(\"Enter the URL: \")\n",
        "    response = requests.get(url)\n",
        "    return pd.read_csv(StringIO(response.text))\n",
        "  elif choice == \"3\":\n",
        "    url = \"https://raw.githubusercontent.com/fivethirtyeight/data/master/airline-safety/airline-safety.csv\"\n",
        "    response = requests.get(url)\n",
        "    return pd.read_csv(StringIO(response.text))\n",
        "  else:\n",
        "    print(\"Option invalid\")\n",
        "    return None"
      ],
      "metadata": {
        "id": "OYiuYKTpf6RR"
      },
      "execution_count": null,
      "outputs": []
    },
    {
      "cell_type": "markdown",
      "source": [
        "# Print some examples from the data"
      ],
      "metadata": {
        "id": "EzstMp3_hQ6h"
      }
    },
    {
      "cell_type": "code",
      "source": [
        "def show_data(data, headings):\n",
        "  print(\"Headings: \", headings)\n",
        "  print(data.head(2))"
      ],
      "metadata": {
        "id": "jZBpe9PthU4a"
      },
      "execution_count": null,
      "outputs": []
    },
    {
      "cell_type": "markdown",
      "source": [
        "# Convert two columns to numpy arrays"
      ],
      "metadata": {
        "id": "l7lXnkU5lA3n"
      }
    },
    {
      "cell_type": "code",
      "source": [
        "def convert_to_arrays(c1, c2):\n",
        "  a1 = c1.values\n",
        "  a2 = c2.values\n",
        "\n",
        "  return a1, a2"
      ],
      "metadata": {
        "id": "pbEwoF7elDgK"
      },
      "execution_count": null,
      "outputs": []
    },
    {
      "cell_type": "markdown",
      "source": [
        "# Show data as a scatter plot"
      ],
      "metadata": {
        "id": "B7hD10wGlkg_"
      }
    },
    {
      "cell_type": "code",
      "source": [
        "def make_scatter_plot(a1, a2, n1=\"X-Axis\", n2=\"Y-Axis\", title=\"Scatter Plot\"):\n",
        "  plt.scatter(a1, a2)\n",
        "  plt.xlabel(n1)\n",
        "  plt.ylabel(n2)\n",
        "  plt.title(title)\n",
        "  plt.show()"
      ],
      "metadata": {
        "id": "0YiMpD4ClwC4"
      },
      "execution_count": null,
      "outputs": []
    },
    {
      "cell_type": "markdown",
      "source": [
        "# Calculator Usage"
      ],
      "metadata": {
        "id": "axWG3ix1hbLl"
      }
    },
    {
      "cell_type": "code",
      "source": [
        "df = get_csv()\n",
        "headings = df.columns.tolist()\n",
        "show_data(df, headings)\n",
        "a1, a2 = convert_to_arrays(df[headings[0]], df[headings[1]])\n",
        "make_scatter_plot(a1, a2, headings[0], headings[1])"
      ],
      "metadata": {
        "id": "29If6KEHhdxS"
      },
      "execution_count": null,
      "outputs": []
    }
  ]
}